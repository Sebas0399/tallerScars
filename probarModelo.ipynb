{
 "cells": [
  {
   "cell_type": "code",
   "execution_count": 59,
   "metadata": {},
   "outputs": [
    {
     "name": "stdout",
     "output_type": "stream",
     "text": [
      "1/1 [==============================] - 0s 112ms/step\n",
      "[[0.3241772 0.6277475]\n",
      " [0.3241772 0.6277475]]\n"
     ]
    }
   ],
   "source": [
    "import tensorflow as tf\n",
    "import cv2\n",
    "import numpy as np\n",
    "loaded_model = tf.keras.models.load_model('modeloValido.h5')\n",
    "new_data=\"a.jpg\"\n",
    "image = cv2.imread(new_data, cv2.IMREAD_GRAYSCALE)\n",
    "resized=cv2.resize(image,(100,100),interpolation = cv2.INTER_AREA)\n",
    "imagen_suavizada = cv2.medianBlur(resized, 5)\n",
    "\n",
    "sobelx = cv2.Sobel(imagen_suavizada, cv2.CV_64F, 1, 0, ksize=5)\n",
    "sobely = cv2.Sobel(imagen_suavizada, cv2.CV_64F, 0, 1, ksize=5)\n",
    "gradiente_magnitud = np.sqrt(sobelx**2 + sobely**2)\n",
    "gradiente_magnitud = cv2.normalize(gradiente_magnitud, None, 0, 255, cv2.NORM_MINMAX, dtype=cv2.CV_8U)\n",
    "x_train=[gradiente_magnitud,gradiente_magnitud]\n",
    "x_train=np.array(x_train)\n",
    "x_train = x_train.astype(\"float32\")\n",
    "x_train = x_train/255\n",
    "predictions = loaded_model.predict(x_train)\n",
    "print(predictions[:5])\n",
    "\n"
   ]
  }
 ],
 "metadata": {
  "kernelspec": {
   "display_name": "Python 3",
   "language": "python",
   "name": "python3"
  },
  "language_info": {
   "codemirror_mode": {
    "name": "ipython",
    "version": 3
   },
   "file_extension": ".py",
   "mimetype": "text/x-python",
   "name": "python",
   "nbconvert_exporter": "python",
   "pygments_lexer": "ipython3",
   "version": "3.11.8"
  }
 },
 "nbformat": 4,
 "nbformat_minor": 2
}
